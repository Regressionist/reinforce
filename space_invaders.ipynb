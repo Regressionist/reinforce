{
 "cells": [
  {
   "cell_type": "code",
   "execution_count": 1,
   "id": "248afc6f-3697-4d79-9725-a9aea423648d",
   "metadata": {},
   "outputs": [],
   "source": [
    "import gym\n",
    "from agents import *\n",
    "from utils import preprocess_frame\n",
    "import matplotlib.pyplot as plt\n",
    "# !python -m atari_py.import_roms 'Roms/ROMS'\n",
    "# !ale-import-roms roms/"
   ]
  },
  {
   "cell_type": "code",
   "execution_count": 8,
   "id": "e6914e53-1de6-40d8-8682-547c659666b7",
   "metadata": {},
   "outputs": [],
   "source": [
    "env = gym.make('Pong-v0')\n",
    "state = env.reset()"
   ]
  },
  {
   "cell_type": "code",
   "execution_count": 7,
   "id": "cf783ff3-b1ce-4417-89db-cefea8b4bf3d",
   "metadata": {},
   "outputs": [
    {
     "data": {
      "image/png": "[encoded data removed]",
      "text/plain": [
       "<Figure size 720x720 with 2 Axes>"
      ]
     },
     "metadata": {
      "needs_background": "light"
     },
     "output_type": "display_data"
    }
   ],
   "source": [
    "plt.figure(figsize=(10,10))\n",
    "plt.subplot(1, 2, 1)\n",
    "plt.imshow(state)\n",
    "plt.subplot(1, 2, 2)\n",
    "temp = preprocess_frame(state)\n",
    "plt.imshow(temp.reshape((80,80)))\n",
    "plt.show()"
   ]
  },
  {
   "cell_type": "code",
   "execution_count": null,
   "id": "f7c4dab3-a62c-4958-9082-c00fb110530d",
   "metadata": {},
   "outputs": [
    {
     "name": "stdout",
     "output_type": "stream",
     "text": [
      "Episode: 10 | score: -10.365468702354859\n",
      "Episode: 20 | score: -8.877024670701918\n",
      "Episode: 30 | score: -7.97357877941337\n"
     ]
    }
   ],
   "source": [
    "david_agent = DavidAgent(\n",
    "    env_name='Pong-v0',\n",
    "    device='cuda',\n",
    "    policy='mlp')\n",
    "david_agent.policy.load_state_dict(torch.load('saved_models/david_pong.pth'))\n",
    "history = david_agent.update_policy(\n",
    "    max_episodes=10000,\n",
    "    save_pth='saved_models/david_pong_mlp.pth',\n",
    "    save=True,\n",
    "    logging=True,\n",
    "    discount_factor=0.99,\n",
    "    checkpoint=10)"
   ]
  },
  {
   "cell_type": "code",
   "execution_count": null,
   "id": "c62e8e24-12e3-40a4-9f65-fc20ad8c1278",
   "metadata": {},
   "outputs": [],
   "source": []
  }
 ],
 "metadata": {
  "kernelspec": {
   "display_name": "Python 3 (ipykernel)",
   "language": "python",
   "name": "python3"
  },
  "language_info": {
   "codemirror_mode": {
    "name": "ipython",
    "version": 3
   },
   "file_extension": ".py",
   "mimetype": "text/x-python",
   "name": "python",
   "nbconvert_exporter": "python",
   "pygments_lexer": "ipython3",
   "version": "3.8.11"
  }
 },
 "nbformat": 4,
 "nbformat_minor": 5
}
