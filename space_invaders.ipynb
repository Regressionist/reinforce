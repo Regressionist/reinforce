{
 "cells": [
  {
   "cell_type": "code",
   "execution_count": 1,
   "id": "248afc6f-3697-4d79-9725-a9aea423648d",
   "metadata": {},
   "outputs": [],
   "source": [
    "import gym\n",
    "# import ale_py\n",
    "# from ale_py.roms import SpaceInvaders\n",
    "from agents import *\n",
    "from utils import preprocess_frame\n",
    "import matplotlib.pyplot as plt\n",
    "# !python -m atari_py.import_roms 'Roms/ROMS'\n",
    "# !ale-import-roms roms/"
   ]
  },
  {
   "cell_type": "code",
   "execution_count": 3,
   "id": "e6914e53-1de6-40d8-8682-547c659666b7",
   "metadata": {},
   "outputs": [
    {
     "name": "stderr",
     "output_type": "stream",
     "text": [
      "/Users/ashwinbhola/Git/reinforce/venv/lib/python3.9/site-packages/ale_py/gym/environment.py:11: DeprecationWarning: Importing atari-py roms won't be supported in future releases of ale-py.\n",
      "  import ale_py.roms as roms\n",
      "/Users/ashwinbhola/Git/reinforce/venv/lib/python3.9/site-packages/ale_py/roms/__init__.py:44: UserWarning: atari_py.atari_roms contains unsupported ROMs: /Users/ashwinbhola/Git/reinforce/venv/lib/python3.9/site-packages/atari_py/atari_roms/{road_runner.bin}\n",
      "  warnings.warn(\n",
      "A.L.E: Arcade Learning Environment (version +a54a328)\n",
      "[Powered by Stella]\n"
     ]
    }
   ],
   "source": [
    "env = gym.make('Breakout-v0')\n",
    "state = env.reset()"
   ]
  },
  {
   "cell_type": "code",
   "execution_count": 5,
   "id": "cf783ff3-b1ce-4417-89db-cefea8b4bf3d",
   "metadata": {},
   "outputs": [
    {
     "data": {
      "image/png": "[encoded data removed]",
      "text/plain": [
       "<Figure size 432x288 with 2 Axes>"
      ]
     },
     "metadata": {
      "needs_background": "light"
     },
     "output_type": "display_data"
    }
   ],
   "source": [
    "plt.subplot(1, 2, 1)\n",
    "plt.imshow(state)\n",
    "plt.subplot(1, 2, 2)\n",
    "temp = preprocess_frame(state)\n",
    "plt.imshow(temp.reshape((80,80)))\n",
    "plt.show()"
   ]
  },
  {
   "cell_type": "code",
   "execution_count": 2,
   "id": "abcda615-a708-44d0-9f59-5293a5bcfb39",
   "metadata": {},
   "outputs": [
    {
     "name": "stderr",
     "output_type": "stream",
     "text": [
      "/Users/ashwinbhola/Git/reinforce/venv/lib/python3.9/site-packages/ale_py/gym/environment.py:11: DeprecationWarning: Importing atari-py roms won't be supported in future releases of ale-py.\n",
      "  import ale_py.roms as roms\n",
      "/Users/ashwinbhola/Git/reinforce/venv/lib/python3.9/site-packages/ale_py/roms/__init__.py:44: UserWarning: atari_py.atari_roms contains unsupported ROMs: /Users/ashwinbhola/Git/reinforce/venv/lib/python3.9/site-packages/atari_py/atari_roms/{road_runner.bin}\n",
      "  warnings.warn(\n",
      "A.L.E: Arcade Learning Environment (version +a54a328)\n",
      "[Powered by Stella]\n"
     ]
    }
   ],
   "source": [
    "david_agent = DavidAgent(\n",
    "    env_name='Breakout-v0',\n",
    "    policy='conv')"
   ]
  },
  {
   "cell_type": "code",
   "execution_count": 3,
   "id": "f7c4dab3-a62c-4958-9082-c00fb110530d",
   "metadata": {},
   "outputs": [
    {
     "name": "stdout",
     "output_type": "stream",
     "text": [
      "Episode: 10 | score: 0.964092962201318\n",
      "Episode: 20 | score: 1.1522668846794515\n",
      "Episode: 30 | score: 1.399975217677706\n",
      "Episode: 40 | score: 1.2086572694424622\n",
      "Episode: 50 | score: 2.0318667605878318\n",
      "Episode: 60 | score: 1.4217125609385666\n",
      "Episode: 70 | score: 1.3056263002913642\n",
      "Episode: 80 | score: 1.8376332045322177\n",
      "Episode: 90 | score: 1.3644596218551681\n",
      "Episode: 100 | score: 1.6908597388751407\n",
      "Episode: 110 | score: 1.8032722680709934\n",
      "Episode: 120 | score: 2.041489881343608\n",
      "Episode: 130 | score: 1.2349201854938359\n",
      "Episode: 140 | score: 0.04675846841177392\n",
      "Episode: 150 | score: 1.2419703308577893e-06\n",
      "Episode: 160 | score: 3.29884693644628e-11\n",
      "Episode: 170 | score: 8.762198934804583e-16\n",
      "Episode: 180 | score: 2.3273626103973925e-20\n",
      "Episode: 190 | score: 6.181800665082216e-25\n",
      "Episode: 200 | score: 1.6419727330880274e-29\n",
      "Episode: 210 | score: 4.361309272609339e-34\n",
      "Episode: 220 | score: 1.1584247526191097e-38\n",
      "Episode: 230 | score: 3.0769381935571078e-43\n",
      "Episode: 240 | score: 8.172778271152337e-48\n",
      "Episode: 250 | score: 2.1708042367988535e-52\n",
      "Episode: 260 | score: 5.76595972404794e-57\n",
      "Episode: 270 | score: 1.5315195620020156e-61\n",
      "Episode: 280 | score: 4.0679301990478896e-66\n",
      "Episode: 290 | score: 1.0804991666377431e-70\n",
      "Episode: 300 | score: 2.8699569362771015e-75\n",
      "Episode: 310 | score: 7.623007097465478e-80\n",
      "Episode: 320 | score: 2.0247773223869154e-84\n",
      "Episode: 330 | score: 5.3780918118460274e-89\n",
      "Episode: 340 | score: 1.4284964186851071e-93\n",
      "Episode: 350 | score: 3.794286318618539e-98\n",
      "Episode: 360 | score: 1.0078155240254313e-102\n",
      "Episode: 370 | score: 2.6768990138742572e-107\n",
      "Episode: 380 | score: 7.110218248930384e-112\n",
      "Episode: 390 | score: 1.8885734308764427e-116\n",
      "Episode: 400 | score: 5.0163152226008885e-121\n",
      "Episode: 410 | score: 1.3324034957337975e-125\n",
      "Episode: 420 | score: 3.539050072940147e-130\n",
      "Episode: 430 | score: 9.40021206705091e-135\n",
      "Episode: 440 | score: 2.496827823408529e-139\n",
      "Episode: 450 | score: 6.631923977118089e-144\n",
      "Episode: 460 | score: 1.7615317814838975e-148\n",
      "Episode: 470 | score: 4.678874830115648e-153\n",
      "Episode: 480 | score: 1.242774607077952e-157\n",
      "Episode: 490 | score: 3.300983206596236e-162\n",
      "Episode: 500 | score: 8.767873167163045e-167\n",
      "Episode: 510 | score: 2.3288697658879336e-171\n",
      "Episode: 520 | score: 6.1858038808992e-176\n",
      "Episode: 530 | score: 1.6430360432095084e-180\n",
      "Episode: 540 | score: 4.364133573037129e-185\n",
      "Episode: 550 | score: 1.1591749263215187e-189\n",
      "Episode: 560 | score: 3.0789307598515756e-194\n",
      "Episode: 570 | score: 8.178070805968072e-199\n",
      "Episode: 580 | score: 2.1722100080825265e-203\n",
      "Episode: 590 | score: 5.769693649228974e-208\n",
      "Episode: 600 | score: 1.5325113447635137e-212\n",
      "Episode: 610 | score: 4.070564512801687e-217\n",
      "Episode: 620 | score: 1.0811988772218411e-221\n",
      "Episode: 630 | score: 2.8718154654701103e-226\n",
      "Episode: 640 | score: 7.627943610989452e-231\n",
      "Episode: 650 | score: 2.026088529435155e-235\n",
      "Episode: 660 | score: 5.381574561189281e-240\n",
      "Episode: 670 | score: 1.4294214856304247e-244\n",
      "Episode: 680 | score: 3.7967434258317694e-249\n",
      "Episode: 690 | score: 1.0084681660734332e-253\n",
      "Episode: 700 | score: 2.678632522451036e-258\n",
      "Episode: 710 | score: 7.114822690208676e-263\n",
      "Episode: 720 | score: 1.8897964348909136e-267\n",
      "Episode: 730 | score: 5.019563692347845e-272\n",
      "Episode: 740 | score: 1.3332663347410285e-276\n",
      "Episode: 750 | score: 3.541341894044828e-281\n",
      "Episode: 760 | score: 9.406299464504947e-286\n",
      "Episode: 770 | score: 2.498444721328169e-290\n",
      "Episode: 780 | score: 6.636218684178501e-295\n",
      "Episode: 790 | score: 1.762672515757265e-299\n",
      "Episode: 800 | score: 4.681904779921616e-304\n",
      "Episode: 810 | score: 1.2435794041320086e-308\n",
      "Episode: 820 | score: 3.3031208602e-313\n",
      "Episode: 830 | score: 8.77355e-318\n",
      "Episode: 840 | score: 2.37e-322\n",
      "Episode: 850 | score: 2.5e-323\n",
      "Episode: 860 | score: 2.5e-323\n",
      "Episode: 870 | score: 2.5e-323\n",
      "Episode: 880 | score: 2.5e-323\n",
      "Episode: 890 | score: 2.5e-323\n",
      "Episode: 900 | score: 2.5e-323\n",
      "Episode: 910 | score: 2.5e-323\n",
      "Episode: 920 | score: 2.5e-323\n",
      "Episode: 930 | score: 2.5e-323\n",
      "Episode: 940 | score: 2.5e-323\n",
      "Episode: 950 | score: 2.5e-323\n",
      "Episode: 960 | score: 2.5e-323\n",
      "Episode: 970 | score: 2.5e-323\n",
      "Episode: 980 | score: 2.5e-323\n",
      "Episode: 990 | score: 2.5e-323\n",
      "Episode: 1000 | score: 2.5e-323\n"
     ]
    }
   ],
   "source": [
    "history = david_agent.update_policy(\n",
    "    max_episodes=1000,\n",
    "    save_pth='',\n",
    "    save=False,\n",
    "    discount_factor=0.99,\n",
    "    logging=True,\n",
    "    checkpoint=10)"
   ]
  },
  {
   "cell_type": "code",
   "execution_count": null,
   "id": "da5c9b8e-f5d0-4352-a905-cce238cabd4d",
   "metadata": {},
   "outputs": [
    {
     "name": "stdout",
     "output_type": "stream",
     "text": [
      "Episode: 10 | score: 0.8409257210000001\n",
      "Episode: 20 | score: 1.7881700166382481\n",
      "Episode: 30 | score: 2.1996440606350167\n"
     ]
    }
   ],
   "source": [
    "env.reset()\n",
    "david_agent = DavidAgent(env=env, policy='conv')\n",
    "david_agent.update_policy(\n",
    "    max_episodes=2000,\n",
    "    save_pth='',\n",
    "    save=False,\n",
    "    logging=True,\n",
    "    checkpoint=10)"
   ]
  },
  {
   "cell_type": "code",
   "execution_count": null,
   "id": "c62e8e24-12e3-40a4-9f65-fc20ad8c1278",
   "metadata": {},
   "outputs": [],
   "source": []
  }
 ],
 "metadata": {
  "kernelspec": {
   "display_name": "Reinforce venv",
   "language": "python",
   "name": "venv"
  },
  "language_info": {
   "codemirror_mode": {
    "name": "ipython",
    "version": 3
   },
   "file_extension": ".py",
   "mimetype": "text/x-python",
   "name": "python",
   "nbconvert_exporter": "python",
   "pygments_lexer": "ipython3",
   "version": "3.9.7"
  }
 },
 "nbformat": 4,
 "nbformat_minor": 5
}
